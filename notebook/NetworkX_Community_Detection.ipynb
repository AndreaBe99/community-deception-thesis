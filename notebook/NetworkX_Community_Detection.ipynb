{
  "cells": [
    {
      "cell_type": "markdown",
      "metadata": {
        "id": "KUTD5iHSR-hz"
      },
      "source": [
        "# Community Detection"
      ]
    },
    {
      "cell_type": "code",
      "execution_count": null,
      "metadata": {
        "colab": {
          "base_uri": "https://localhost:8080/"
        },
        "id": "QiuxsFsfTLOH",
        "outputId": "8c5dd58b-93e2-47b4-facf-0e9581703a79"
      },
      "outputs": [
        {
          "output_type": "stream",
          "name": "stdout",
          "text": [
            "Collecting cdlib\n",
            "  Downloading cdlib-0.3.0-py3-none-any.whl (230 kB)\n",
            "\u001b[2K     \u001b[90m━━━━━━━━━━━━━━━━━━━━━━━━━━━━━━━━━━━━━━━\u001b[0m \u001b[32m230.3/230.3 kB\u001b[0m \u001b[31m2.8 MB/s\u001b[0m eta \u001b[36m0:00:00\u001b[0m\n",
            "\u001b[?25hRequirement already satisfied: numpy in /usr/local/lib/python3.10/dist-packages (from cdlib) (1.22.4)\n",
            "Requirement already satisfied: matplotlib in /usr/local/lib/python3.10/dist-packages (from cdlib) (3.7.1)\n",
            "Requirement already satisfied: scikit-learn in /usr/local/lib/python3.10/dist-packages (from cdlib) (1.2.2)\n",
            "Requirement already satisfied: tqdm in /usr/local/lib/python3.10/dist-packages (from cdlib) (4.65.0)\n",
            "Requirement already satisfied: networkx>=3.0 in /usr/local/lib/python3.10/dist-packages (from cdlib) (3.1)\n",
            "Collecting demon (from cdlib)\n",
            "  Downloading demon-2.0.6-py3-none-any.whl (7.3 kB)\n",
            "Requirement already satisfied: python-louvain>=0.16 in /usr/local/lib/python3.10/dist-packages (from cdlib) (0.16)\n",
            "Collecting nf1 (from cdlib)\n",
            "  Downloading nf1-0.0.4-py3-none-any.whl (18 kB)\n",
            "Requirement already satisfied: scipy in /usr/local/lib/python3.10/dist-packages (from cdlib) (1.10.1)\n",
            "Collecting pulp (from cdlib)\n",
            "  Downloading PuLP-2.7.0-py3-none-any.whl (14.3 MB)\n",
            "\u001b[2K     \u001b[90m━━━━━━━━━━━━━━━━━━━━━━━━━━━━━━━━━━━━━━━━\u001b[0m \u001b[32m14.3/14.3 MB\u001b[0m \u001b[31m22.2 MB/s\u001b[0m eta \u001b[36m0:00:00\u001b[0m\n",
            "\u001b[?25hRequirement already satisfied: seaborn in /usr/local/lib/python3.10/dist-packages (from cdlib) (0.12.2)\n",
            "Requirement already satisfied: pandas in /usr/local/lib/python3.10/dist-packages (from cdlib) (1.5.3)\n",
            "Collecting eva-lcd (from cdlib)\n",
            "  Downloading eva_lcd-0.1.1-py3-none-any.whl (9.2 kB)\n",
            "Collecting bimlpa (from cdlib)\n",
            "  Downloading bimlpa-0.1.2-py3-none-any.whl (7.0 kB)\n",
            "Collecting markov-clustering (from cdlib)\n",
            "  Downloading markov_clustering-0.0.6.dev0-py3-none-any.whl (6.3 kB)\n",
            "Collecting python-igraph>=0.10 (from cdlib)\n",
            "  Downloading python_igraph-0.10.6-py3-none-any.whl (9.1 kB)\n",
            "Collecting angelcommunity (from cdlib)\n",
            "  Downloading angelcommunity-2.0.0-py3-none-any.whl (10 kB)\n",
            "Requirement already satisfied: pooch in /usr/local/lib/python3.10/dist-packages (from cdlib) (1.6.0)\n",
            "Collecting dynetx (from cdlib)\n",
            "  Downloading dynetx-0.3.2-py3-none-any.whl (39 kB)\n",
            "Collecting thresholdclustering (from cdlib)\n",
            "  Downloading thresholdclustering-1.1-py3-none-any.whl (5.3 kB)\n",
            "Collecting python-Levenshtein (from cdlib)\n",
            "  Downloading python_Levenshtein-0.21.1-py3-none-any.whl (9.4 kB)\n",
            "Collecting igraph==0.10.6 (from python-igraph>=0.10->cdlib)\n",
            "  Downloading igraph-0.10.6-cp39-abi3-manylinux_2_17_x86_64.manylinux2014_x86_64.whl (3.3 MB)\n",
            "\u001b[2K     \u001b[90m━━━━━━━━━━━━━━━━━━━━━━━━━━━━━━━━━━━━━━━━\u001b[0m \u001b[32m3.3/3.3 MB\u001b[0m \u001b[31m36.3 MB/s\u001b[0m eta \u001b[36m0:00:00\u001b[0m\n",
            "\u001b[?25hCollecting texttable>=1.6.2 (from igraph==0.10.6->python-igraph>=0.10->cdlib)\n",
            "  Downloading texttable-1.6.7-py2.py3-none-any.whl (10 kB)\n",
            "Requirement already satisfied: future in /usr/local/lib/python3.10/dist-packages (from angelcommunity->cdlib) (0.18.3)\n",
            "Requirement already satisfied: decorator in /usr/local/lib/python3.10/dist-packages (from dynetx->cdlib) (4.4.2)\n",
            "Requirement already satisfied: contourpy>=1.0.1 in /usr/local/lib/python3.10/dist-packages (from matplotlib->cdlib) (1.1.0)\n",
            "Requirement already satisfied: cycler>=0.10 in /usr/local/lib/python3.10/dist-packages (from matplotlib->cdlib) (0.11.0)\n",
            "Requirement already satisfied: fonttools>=4.22.0 in /usr/local/lib/python3.10/dist-packages (from matplotlib->cdlib) (4.41.0)\n",
            "Requirement already satisfied: kiwisolver>=1.0.1 in /usr/local/lib/python3.10/dist-packages (from matplotlib->cdlib) (1.4.4)\n",
            "Requirement already satisfied: packaging>=20.0 in /usr/local/lib/python3.10/dist-packages (from matplotlib->cdlib) (23.1)\n",
            "Requirement already satisfied: pillow>=6.2.0 in /usr/local/lib/python3.10/dist-packages (from matplotlib->cdlib) (8.4.0)\n",
            "Requirement already satisfied: pyparsing>=2.3.1 in /usr/local/lib/python3.10/dist-packages (from matplotlib->cdlib) (3.1.0)\n",
            "Requirement already satisfied: python-dateutil>=2.7 in /usr/local/lib/python3.10/dist-packages (from matplotlib->cdlib) (2.8.2)\n",
            "Requirement already satisfied: pytz>=2020.1 in /usr/local/lib/python3.10/dist-packages (from pandas->cdlib) (2022.7.1)\n",
            "Requirement already satisfied: appdirs>=1.3.0 in /usr/local/lib/python3.10/dist-packages (from pooch->cdlib) (1.4.4)\n",
            "Requirement already satisfied: requests>=2.19.0 in /usr/local/lib/python3.10/dist-packages (from pooch->cdlib) (2.27.1)\n",
            "Collecting Levenshtein==0.21.1 (from python-Levenshtein->cdlib)\n",
            "  Downloading Levenshtein-0.21.1-cp310-cp310-manylinux_2_17_x86_64.manylinux2014_x86_64.whl (172 kB)\n",
            "\u001b[2K     \u001b[90m━━━━━━━━━━━━━━━━━━━━━━━━━━━━━━━━━━━━━━━\u001b[0m \u001b[32m172.5/172.5 kB\u001b[0m \u001b[31m2.3 MB/s\u001b[0m eta \u001b[36m0:00:00\u001b[0m\n",
            "\u001b[?25hCollecting rapidfuzz<4.0.0,>=2.3.0 (from Levenshtein==0.21.1->python-Levenshtein->cdlib)\n",
            "  Downloading rapidfuzz-3.1.2-cp310-cp310-manylinux_2_17_x86_64.manylinux2014_x86_64.whl (3.1 MB)\n",
            "\u001b[2K     \u001b[90m━━━━━━━━━━━━━━━━━━━━━━━━━━━━━━━━━━━━━━━━\u001b[0m \u001b[32m3.1/3.1 MB\u001b[0m \u001b[31m10.5 MB/s\u001b[0m eta \u001b[36m0:00:00\u001b[0m\n",
            "\u001b[?25hRequirement already satisfied: joblib>=1.1.1 in /usr/local/lib/python3.10/dist-packages (from scikit-learn->cdlib) (1.3.1)\n",
            "Requirement already satisfied: threadpoolctl>=2.0.0 in /usr/local/lib/python3.10/dist-packages (from scikit-learn->cdlib) (3.2.0)\n",
            "Requirement already satisfied: six>=1.5 in /usr/local/lib/python3.10/dist-packages (from python-dateutil>=2.7->matplotlib->cdlib) (1.16.0)\n",
            "Requirement already satisfied: urllib3<1.27,>=1.21.1 in /usr/local/lib/python3.10/dist-packages (from requests>=2.19.0->pooch->cdlib) (1.26.16)\n",
            "Requirement already satisfied: certifi>=2017.4.17 in /usr/local/lib/python3.10/dist-packages (from requests>=2.19.0->pooch->cdlib) (2023.5.7)\n",
            "Requirement already satisfied: charset-normalizer~=2.0.0 in /usr/local/lib/python3.10/dist-packages (from requests>=2.19.0->pooch->cdlib) (2.0.12)\n",
            "Requirement already satisfied: idna<4,>=2.5 in /usr/local/lib/python3.10/dist-packages (from requests>=2.19.0->pooch->cdlib) (3.4)\n",
            "Installing collected packages: texttable, pulp, thresholdclustering, rapidfuzz, igraph, eva-lcd, dynetx, demon, python-igraph, Levenshtein, python-Levenshtein, nf1, markov-clustering, bimlpa, angelcommunity, cdlib\n",
            "Successfully installed Levenshtein-0.21.1 angelcommunity-2.0.0 bimlpa-0.1.2 cdlib-0.3.0 demon-2.0.6 dynetx-0.3.2 eva-lcd-0.1.1 igraph-0.10.6 markov-clustering-0.0.6.dev0 nf1-0.0.4 pulp-2.7.0 python-Levenshtein-0.21.1 python-igraph-0.10.6 rapidfuzz-3.1.2 texttable-1.6.7 thresholdclustering-1.1\n",
            "Requirement already satisfied: networkx in /usr/local/lib/python3.10/dist-packages (3.1)\n"
          ]
        }
      ],
      "source": [
        "!pip install cdlib\n",
        "!pip install networkx"
      ]
    },
    {
      "cell_type": "code",
      "execution_count": null,
      "metadata": {
        "id": "CQLp1m6sTJfz",
        "colab": {
          "base_uri": "https://localhost:8080/"
        },
        "outputId": "ee1fb8c6-671c-48f0-d077-190209a05097"
      },
      "outputs": [
        {
          "output_type": "stream",
          "name": "stdout",
          "text": [
            "Note: to be able to use all crisp methods, you need to install some additional packages:  {'leidenalg', 'graph_tool', 'wurlitzer', 'bayanpy', 'infomap'}\n",
            "Note: to be able to use all crisp methods, you need to install some additional packages:  {'pyclustering', 'ASLPAw'}\n",
            "Note: to be able to use all crisp methods, you need to install some additional packages:  {'wurlitzer', 'leidenalg', 'infomap'}\n"
          ]
        }
      ],
      "source": [
        "from cdlib import algorithms\n",
        "import networkx as nx"
      ]
    },
    {
      "cell_type": "markdown",
      "metadata": {
        "id": "L69CL1YsTVM_"
      },
      "source": [
        "Import the karate club network graph."
      ]
    },
    {
      "cell_type": "code",
      "execution_count": null,
      "metadata": {
        "id": "eFZL60FbZWg_"
      },
      "outputs": [],
      "source": [
        "G = nx.karate_club_graph()"
      ]
    },
    {
      "cell_type": "markdown",
      "metadata": {
        "id": "T2u3LQVVV0Vb"
      },
      "source": [
        "## Community Detection Algorithm from Pirrò Paper\n",
        "\n",
        "1. **Louvain** (`louv`): a multi-level modularity optimization algorithm, which runs in time $O(\\vert V \\vert log \\vert V \\vert)$;\n",
        "2. **WalkTrap** (`walk`): based on the idea that random walks are more likely to stay in the same community. This algorithm runs in time $O(\\vert V \\vert^2 log \\vert V \\vert)$;\n",
        "3. **Greedy** (`gre`): based on a greedy modularity maximization strategy and running in time $O(\\vert V \\vert log^2 \\vert V \\vert )$;\n",
        "4. **InfoMap** (`inf`): it returns a community structure, which provides the shortest description length for a random walk. This algorithm runs in time O(jEj);\n",
        "5. **Label propagation** (`lab`): it assigns to every node one of k labels and then re-assigns labels to nodes in a way that each node takes the most frequent label of its neighbors. This algorithm runs in time $O(\\vert E \\vert)$;\n",
        "6. **Leading Eigenvectors** (`eig`): a top-down hierarchical approach based on modularity. Its complexity is $O( \\vert V \\vert (\\vert E \\vert + \\vert V \\vert))$, or $O(\\vert V \\vert^2 )$ on a sparse graph;\n",
        "7. **Edge-Betweeness** (`btw`): a hierarchical decomposition process where edges are removed in the decreasing order of their edge betweenness scores. This algorithm runs in time $O(\\vert E \\vert^2 \\vert V \\vert)$;\n",
        "8. **SpinGlass** (`spin`): it reduces community detection to the problem of finding the ground state of an infinite spin glass. The complexity is $O(V^{3.2} )$;\n",
        "9. **Optimal** (`opt`): it uses integer programming and has exponential complexity.\n",
        "10. **Scalable Community Detection** (`scd`), which partitions the graph by maximizing the Weighted Community Clustering, a community detection metric based on triangle analysis. The time complexity is $O(\\vert E \\vert log \\vert V \\vert )$."
      ]
    },
    {
      "cell_type": "code",
      "execution_count": null,
      "metadata": {
        "colab": {
          "base_uri": "https://localhost:8080/"
        },
        "id": "NVPQWnlMXcxH",
        "outputId": "229335c2-de0b-476f-e6e1-662fb9dd09ee"
      },
      "outputs": [
        {
          "output_type": "execute_result",
          "data": {
            "text/plain": [
              "[[8, 9, 14, 15, 18, 20, 22, 26, 29, 30, 32, 33],\n",
              " [0, 1, 2, 3, 7, 11, 12, 13, 17, 19, 21],\n",
              " [23, 24, 25, 27, 28, 31],\n",
              " [4, 5, 6, 10, 16]]"
            ]
          },
          "metadata": {},
          "execution_count": 4
        }
      ],
      "source": [
        "# 1. louv\n",
        "coms = algorithms.louvain(G, weight='weight', resolution=1., randomize=False)\n",
        "coms.communities"
      ]
    },
    {
      "cell_type": "code",
      "execution_count": null,
      "metadata": {
        "colab": {
          "base_uri": "https://localhost:8080/"
        },
        "id": "_jjJLeu5Xi7b",
        "outputId": "55ea5105-1158-4958-9da4-05caa14c14bd"
      },
      "outputs": [
        {
          "output_type": "execute_result",
          "data": {
            "text/plain": [
              "[[0, 1, 3, 7, 11, 12, 17, 19, 21],\n",
              " [14, 15, 18, 20, 22, 26, 29, 32, 33],\n",
              " [2, 8, 9, 13, 28, 30, 31],\n",
              " [4, 5, 6, 10, 16],\n",
              " [23, 24, 25, 27]]"
            ]
          },
          "metadata": {},
          "execution_count": 5
        }
      ],
      "source": [
        "# 2. walk\n",
        "coms = algorithms.walktrap(G)\n",
        "coms.communities"
      ]
    },
    {
      "cell_type": "code",
      "execution_count": null,
      "metadata": {
        "colab": {
          "base_uri": "https://localhost:8080/"
        },
        "id": "-cJckEXOXt-r",
        "outputId": "98917097-bd24-435c-e743-1e7c26e8d281"
      },
      "outputs": [
        {
          "output_type": "execute_result",
          "data": {
            "text/plain": [
              "[[8, 14, 15, 18, 20, 22, 23, 24, 25, 26, 27, 28, 29, 30, 31, 32, 33],\n",
              " [1, 2, 3, 7, 9, 12, 13, 17, 21],\n",
              " [0, 16, 19, 4, 5, 6, 10, 11]]"
            ]
          },
          "metadata": {},
          "execution_count": 6
        }
      ],
      "source": [
        "# 3. gre\n",
        "coms = algorithms.greedy_modularity(G)\n",
        "coms.communities"
      ]
    },
    {
      "cell_type": "code",
      "execution_count": null,
      "metadata": {
        "colab": {
          "base_uri": "https://localhost:8080/"
        },
        "id": "TEi0wJdiXxuo",
        "outputId": "3624ee3b-84dc-43f9-9469-09ff7fd1a6e7"
      },
      "outputs": [
        {
          "output_type": "execute_result",
          "data": {
            "text/plain": [
              "[[8, 14, 15, 18, 20, 22, 23, 24, 25, 26, 27, 28, 29, 30, 31, 32, 33],\n",
              " [0, 1, 2, 3, 7, 9, 11, 12, 13, 17, 19, 21],\n",
              " [4, 5, 6, 10, 16]]"
            ]
          },
          "metadata": {},
          "execution_count": 7
        }
      ],
      "source": [
        "# 4. inf\n",
        "coms = algorithms.infomap(G)\n",
        "coms.communities"
      ]
    },
    {
      "cell_type": "code",
      "execution_count": null,
      "metadata": {
        "colab": {
          "base_uri": "https://localhost:8080/"
        },
        "id": "mUbqnIvBXz6A",
        "outputId": "57b286df-0c49-4afe-85c9-8a5396c6d0e7"
      },
      "outputs": [
        {
          "output_type": "execute_result",
          "data": {
            "text/plain": [
              "[[32, 33, 2, 8, 9, 14, 15, 18, 20, 22, 23, 26, 27, 28, 29, 30],\n",
              " [0, 1, 3, 4, 7, 10, 11, 12, 13, 17, 19, 21, 24, 25, 31],\n",
              " [16, 5, 6]]"
            ]
          },
          "metadata": {},
          "execution_count": 8
        }
      ],
      "source": [
        "# 5. lab\n",
        "coms = algorithms.label_propagation(G)\n",
        "coms.communities"
      ]
    },
    {
      "cell_type": "code",
      "execution_count": null,
      "metadata": {
        "colab": {
          "base_uri": "https://localhost:8080/"
        },
        "id": "T5KBERNfX1qN",
        "outputId": "83bc20d0-f63a-4e0e-c04d-6781dd8fc75a"
      },
      "outputs": [
        {
          "output_type": "execute_result",
          "data": {
            "text/plain": [
              "[[32, 33, 2, 8, 9, 14, 15, 18, 20, 22, 23, 26, 27, 28, 29, 30],\n",
              " [0, 1, 3, 4, 7, 10, 11, 12, 13, 17, 19, 21, 24, 25, 31],\n",
              " [16, 5, 6]]"
            ]
          },
          "metadata": {},
          "execution_count": 9
        }
      ],
      "source": [
        "# 6. eig\n",
        "com = algorithms.eigenvector(G)\n",
        "coms.communities"
      ]
    },
    {
      "cell_type": "code",
      "execution_count": null,
      "metadata": {
        "colab": {
          "base_uri": "https://localhost:8080/"
        },
        "id": "Uv7HNZsFX4SD",
        "outputId": "4702ac68-639e-4b5c-faf1-0714dfa68411"
      },
      "outputs": [
        {
          "output_type": "execute_result",
          "data": {
            "text/plain": [
              "[[3, 7], [2, 13], [8, 30], [26, 29], [24, 25], [28, 31], [10, 4]]"
            ]
          },
          "metadata": {},
          "execution_count": 10
        }
      ],
      "source": [
        "# 7. btw\n",
        "coms = algorithms.head_tail(G) # Not sure that it is this\n",
        "coms.communities"
      ]
    },
    {
      "cell_type": "code",
      "execution_count": null,
      "metadata": {
        "colab": {
          "base_uri": "https://localhost:8080/"
        },
        "id": "jKKkEZInX6id",
        "outputId": "882ade31-4508-4591-e4af-93eba63eb3eb"
      },
      "outputs": [
        {
          "output_type": "execute_result",
          "data": {
            "text/plain": [
              "[[0, 1, 2, 3, 7, 9, 11, 12, 13, 17, 19, 21],\n",
              " [8, 14, 15, 18, 20, 22, 26, 29, 30, 32, 33],\n",
              " [23, 24, 25, 27, 28, 31],\n",
              " [4, 5, 6, 10, 16]]"
            ]
          },
          "metadata": {},
          "execution_count": 11
        }
      ],
      "source": [
        "# 8. spin\n",
        "coms = algorithms.spinglass(G)\n",
        "coms.communities"
      ]
    },
    {
      "cell_type": "code",
      "execution_count": null,
      "metadata": {
        "id": "fttJ0xPBX9Rc"
      },
      "outputs": [],
      "source": [
        "# 9. opt\n",
        "\n",
        "# coms.communities"
      ]
    },
    {
      "cell_type": "code",
      "execution_count": null,
      "metadata": {
        "id": "UxKv9ZnkX_i7"
      },
      "outputs": [],
      "source": [
        "# 10. scd\n",
        "\n",
        "# coms.communities"
      ]
    }
  ],
  "metadata": {
    "colab": {
      "provenance": []
    },
    "kernelspec": {
      "display_name": "Python 3",
      "name": "python3"
    },
    "language_info": {
      "name": "python"
    }
  },
  "nbformat": 4,
  "nbformat_minor": 0
}